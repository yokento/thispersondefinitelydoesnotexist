{
  "nbformat": 4,
  "nbformat_minor": 0,
  "metadata": {
    "anaconda-cloud": {},
    "kernelspec": {
      "name": "python3",
      "display_name": "Python 3"
    },
    "colab": {
      "name": "DCGAN_face_generation_APP_v1.ipynb",
      "provenance": [],
      "collapsed_sections": [],
      "toc_visible": true,
      "machine_shape": "hm"
    },
    "accelerator": "GPU"
  },
  "cells": [
    {
      "cell_type": "markdown",
      "metadata": {
        "id": "4mB_sFildiDh"
      },
      "source": [
        "<a href=\"https://colab.research.google.com/github/jeffheaton/t81_558_deep_learning/blob/master/t81_558_class_07_2_Keras_gan.ipynb\" target=\"_parent\"><img src=\"https://colab.research.google.com/assets/colab-badge.svg\" alt=\"Open In Colab\"/></a>"
      ]
    },
    {
      "cell_type": "markdown",
      "metadata": {
        "id": "A7JlCykj49Yw"
      },
      "source": [
        "**DATASET SELECTION**"
      ]
    },
    {
      "cell_type": "code",
      "metadata": {
        "id": "Vg9GSLo-ABvH"
      },
      "source": [
        "import gdown\n",
        "import numpy as np\n",
        "from tensorflow import keras\n",
        "import matplotlib.pyplot as plt\n",
        "\n",
        "url = 'https://drive.google.com/uc?id=1R9mpvbgPyPzOdYIVgw3BC0cAXjb7Imjv'\n",
        "output='face_generator_400epochs.h5'\n",
        "\n",
        "# Download\n",
        "gdown.download(url, output, quiet=False)\n",
        "\n",
        "# Size vector to generate images from\n",
        "SEED_SIZE = 100"
      ],
      "execution_count": null,
      "outputs": []
    },
    {
      "cell_type": "code",
      "metadata": {
        "id": "X8r09dEZCeW4"
      },
      "source": [
        "generator = keras.models.load_model(output)"
      ],
      "execution_count": null,
      "outputs": []
    },
    {
      "cell_type": "code",
      "metadata": {
        "id": "oYEFnc4a5Hhi"
      },
      "source": [
        "def generated_single_image2():\n",
        "  random_seed = np.random.normal(0, 1, (1, SEED_SIZE))\n",
        "  \n",
        "  img = generator.predict(random_seed)\n",
        "  img -= img.min() #normalizing image\n",
        "  img /= img.max()\n",
        "  plt.axis('off')\n",
        "  plt.imshow(img[0])\n",
        "\n",
        "# Call function to print images to screen\n",
        "generated_single_image2()"
      ],
      "execution_count": null,
      "outputs": []
    }
  ]
}