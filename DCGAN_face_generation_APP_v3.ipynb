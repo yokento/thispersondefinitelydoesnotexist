{
 "cells": [
  {
   "cell_type": "markdown",
   "metadata": {
    "id": "A7JlCykj49Yw"
   },
   "source": [
    "**THISPERSONDEFINITELYDOESNOTEXIST**"
   ]
  },
  {
   "cell_type": "code",
   "execution_count": 2,
   "metadata": {
    "id": "Vg9GSLo-ABvH"
   },
   "outputs": [],
   "source": [
    "%matplotlib widget\n",
    "import numpy as np\n",
    "from tensorflow import keras\n",
    "import matplotlib.pyplot as plt\n",
    "from IPython.display import display\n",
    "import ipywidgets as widgets"
   ]
  },
  {
   "cell_type": "code",
   "execution_count": null,
   "metadata": {
    "id": "oiMh6T22Ofu9"
   },
   "outputs": [],
   "source": [
    "# Uncomment this cell if the model is not already in the current directory\n",
    "\n",
    "# import gdown\n",
    "# url = 'https://drive.google.com/uc?id=1R9mpvbgPyPzOdYIVgw3BC0cAXjb7Imjv'\n",
    "# output='face_generator_400epochs.h5'\n",
    "# gdown.download(url, output, quiet=False)"
   ]
  },
  {
   "cell_type": "code",
   "execution_count": 3,
   "metadata": {
    "id": "X8r09dEZCeW4"
   },
   "outputs": [],
   "source": [
    "this_model = 'face_generator_400epochs.h5'\n",
    "generator = keras.models.load_model(this_model, compile=False)"
   ]
  },
  {
   "cell_type": "code",
   "execution_count": 4,
   "metadata": {
    "id": "oYEFnc4a5Hhi"
   },
   "outputs": [],
   "source": [
    "# Size vector to generate images from\n",
    "SEED_SIZE = 100\n",
    "\n",
    "def generated_single_image():\n",
    "  random_seed = np.random.normal(0, 1, (1, SEED_SIZE))\n",
    "  img = generator.predict(random_seed)\n",
    "  img -= img.min() #normalizing image\n",
    "  img /= img.max()\n",
    "  img = img[0]  \n",
    "  return img\n",
    "\n",
    "def on_button_clicked(b):\n",
    "  with result:\n",
    "    img = generated_single_image() \n",
    "    plt.axis('off')\n",
    "    plt.imshow(img)"
   ]
  },
  {
   "cell_type": "code",
   "execution_count": 5,
   "metadata": {
    "id": "zfEBzqn63dVJ"
   },
   "outputs": [
    {
     "data": {
      "application/vnd.jupyter.widget-view+json": {
       "model_id": "ab0fdf4aa8224fcab3b1067f7b540377",
       "version_major": 2,
       "version_minor": 0
      },
      "text/plain": [
       "Button(description='Generate \"person\" ', style=ButtonStyle())"
      ]
     },
     "metadata": {},
     "output_type": "display_data"
    },
    {
     "data": {
      "application/vnd.jupyter.widget-view+json": {
       "model_id": "d220f4792bc8431da78a6d9bc294a07e",
       "version_major": 2,
       "version_minor": 0
      },
      "text/plain": [
       "Output()"
      ]
     },
     "metadata": {},
     "output_type": "display_data"
    }
   ],
   "source": [
    "# Button and result definition\n",
    "button = widgets.Button(description='Generate \"person\" ')\n",
    "result = widgets.Output()\n",
    "\n",
    "button.on_click(on_button_clicked)\n",
    "display(button, result)"
   ]
  },
  {
   "cell_type": "code",
   "execution_count": 6,
   "metadata": {
    "id": "itHc5iqoTYQM"
   },
   "outputs": [
    {
     "data": {
      "application/vnd.jupyter.widget-view+json": {
       "model_id": "b5458693971b45dea347edda309c31d3",
       "version_major": 2,
       "version_minor": 0
      },
      "text/plain": [
       "Canvas(toolbar=Toolbar(toolitems=[('Home', 'Reset original view', 'home', 'home'), ('Back', 'Back to previous …"
      ]
     },
     "metadata": {},
     "output_type": "display_data"
    }
   ],
   "source": [
    "# Open and configure figure window to display images\n",
    "fig = plt.figure()\n",
    "\n",
    "fig.canvas.toolbar_visible = False # This turns toolbar off\n",
    "fig.canvas.header_visible = False  # This turns header off\n",
    "fig.canvas.resizable = False       # This turns resize option off"
   ]
  }
 ],
 "metadata": {
  "accelerator": "GPU",
  "anaconda-cloud": {},
  "colab": {
   "collapsed_sections": [],
   "machine_shape": "hm",
   "name": "DCGAN_face_generation_APP_v3.ipynb",
   "provenance": [],
   "toc_visible": true
  },
  "kernelspec": {
   "display_name": "Python 3",
   "language": "python",
   "name": "python3"
  },
  "language_info": {
   "codemirror_mode": {
    "name": "ipython",
    "version": 3
   },
   "file_extension": ".py",
   "mimetype": "text/x-python",
   "name": "python",
   "nbconvert_exporter": "python",
   "pygments_lexer": "ipython3",
   "version": "3.6.3"
  }
 },
 "nbformat": 4,
 "nbformat_minor": 1
}
